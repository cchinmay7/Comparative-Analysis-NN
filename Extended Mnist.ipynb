{
 "cells": [
  {
   "cell_type": "code",
   "execution_count": 5,
   "id": "06bc5190",
   "metadata": {},
   "outputs": [
    {
     "name": "stderr",
     "output_type": "stream",
     "text": [
      "INFO:root:Loading dataset = emnist\n",
      "WARNING:root:Please cite the following paper when using or referencing this Extra Keras Dataset:\n",
      "WARNING:root:Cohen, G., Afshar, S., Tapson, J., & van Schaik, A. (2017). EMNIST: an extension of MNIST to handwritten letters. Retrieved from http://arxiv.org/abs/1702.05373\n"
     ]
    },
    {
     "name": "stdout",
     "output_type": "stream",
     "text": [
      "Epoch 1/5\n",
      "882/882 [==============================] - 50s 57ms/step - loss: 0.6723 - accuracy: 0.7872\n",
      "Epoch 2/5\n",
      "882/882 [==============================] - 51s 58ms/step - loss: 0.3724 - accuracy: 0.8697\n",
      "Epoch 3/5\n",
      "882/882 [==============================] - 53s 60ms/step - loss: 0.3061 - accuracy: 0.8901\n",
      "Epoch 4/5\n",
      "882/882 [==============================] - 53s 60ms/step - loss: 0.2626 - accuracy: 0.9025\n",
      "Epoch 5/5\n",
      "882/882 [==============================] - 53s 60ms/step - loss: 0.2264 - accuracy: 0.9141\n"
     ]
    },
    {
     "data": {
      "text/plain": [
       "<tensorflow.python.keras.callbacks.History at 0x1a90159aa90>"
      ]
     },
     "execution_count": 5,
     "metadata": {},
     "output_type": "execute_result"
    }
   ],
   "source": [
    "from extra_keras_datasets import emnist\n",
    "from tensorflow.keras import models\n",
    "from tensorflow.keras import layers\n",
    "from tensorflow.keras.utils import to_categorical\n",
    "import numpy as np\n",
    "\n",
    "# Load the EMNIST dataset\n",
    "(train_images, train_labels), (test_images, test_labels) = emnist.load_data(type='balanced')\n",
    "\n",
    "# Reshape and normalize the data\n",
    "train_images = train_images.reshape((train_images.shape[0], 28, 28, 1)).astype('float32') / 255.0\n",
    "test_images = test_images.reshape((test_images.shape[0], 28, 28, 1)).astype('float32') / 255.0\n",
    "\n",
    "# Convert labels to one-hot encoded vectors\n",
    "train_labels = to_categorical(train_labels)\n",
    "test_labels = to_categorical(test_labels)\n",
    "\n",
    "# Create the network\n",
    "network = models.Sequential()\n",
    "network.add(layers.Conv2D(28, (3, 3), activation='relu', input_shape=(28, 28, 1)))\n",
    "network.add(layers.MaxPooling2D((2, 2)))\n",
    "network.add(layers.Conv2D(28, (3, 3), activation='relu'))\n",
    "network.add(layers.Flatten())\n",
    "network.add(layers.Dense(512, activation='relu'))\n",
    "network.add(layers.Dense(47, activation='softmax'))\n",
    "\n",
    "# Compile the network\n",
    "network.compile(optimizer='rmsprop',\n",
    "                loss='categorical_crossentropy',\n",
    "                metrics=['accuracy'])\n",
    "\n",
    "# Train the network\n",
    "network.fit(train_images, train_labels, epochs=5, batch_size=128)\n"
   ]
  },
  {
   "cell_type": "code",
   "execution_count": 11,
   "id": "024646dd",
   "metadata": {},
   "outputs": [
    {
     "name": "stdout",
     "output_type": "stream",
     "text": [
      "588/588 [==============================] - 2s 4ms/step - loss: 0.4328 - accuracy: 0.8739\n"
     ]
    }
   ],
   "source": [
    "test_loss, test_acc = network.evaluate(test_images, test_labels)"
   ]
  },
  {
   "cell_type": "code",
   "execution_count": 12,
   "id": "6628234b",
   "metadata": {},
   "outputs": [
    {
     "name": "stdout",
     "output_type": "stream",
     "text": [
      "test_acc: 0.8738829493522644\n"
     ]
    }
   ],
   "source": [
    "print('test_acc:', test_acc)"
   ]
  }
 ],
 "metadata": {
  "kernelspec": {
   "display_name": "Python 3",
   "language": "python",
   "name": "python3"
  },
  "language_info": {
   "codemirror_mode": {
    "name": "ipython",
    "version": 3
   },
   "file_extension": ".py",
   "mimetype": "text/x-python",
   "name": "python",
   "nbconvert_exporter": "python",
   "pygments_lexer": "ipython3",
   "version": "3.8.8"
  }
 },
 "nbformat": 4,
 "nbformat_minor": 5
}
