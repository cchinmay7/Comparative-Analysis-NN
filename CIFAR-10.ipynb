{
 "cells": [
  {
   "cell_type": "code",
   "execution_count": 21,
   "id": "50484b24",
   "metadata": {},
   "outputs": [
    {
     "name": "stdout",
     "output_type": "stream",
     "text": [
      "Epoch 1/10\n",
      "391/391 [==============================] - 8s 21ms/step - loss: 2.3888 - accuracy: 0.2530\n",
      "Epoch 2/10\n",
      "391/391 [==============================] - 8s 21ms/step - loss: 1.8134 - accuracy: 0.3490\n",
      "Epoch 3/10\n",
      "391/391 [==============================] - 8s 22ms/step - loss: 1.7243 - accuracy: 0.3857\n",
      "Epoch 4/10\n",
      "391/391 [==============================] - 9s 23ms/step - loss: 1.6644 - accuracy: 0.4089\n",
      "Epoch 5/10\n",
      "391/391 [==============================] - 9s 22ms/step - loss: 1.6227 - accuracy: 0.4269\n",
      "Epoch 6/10\n",
      "391/391 [==============================] - 9s 22ms/step - loss: 1.5880 - accuracy: 0.4370\n",
      "Epoch 7/10\n",
      "391/391 [==============================] - 8s 21ms/step - loss: 1.5622 - accuracy: 0.4500\n",
      "Epoch 8/10\n",
      "391/391 [==============================] - 9s 22ms/step - loss: 1.5423 - accuracy: 0.4533\n",
      "Epoch 9/10\n",
      "391/391 [==============================] - 9s 23ms/step - loss: 1.5200 - accuracy: 0.4647\n",
      "Epoch 10/10\n",
      "391/391 [==============================] - 8s 21ms/step - loss: 1.5024 - accuracy: 0.4708\n"
     ]
    },
    {
     "data": {
      "text/plain": [
       "<tensorflow.python.keras.callbacks.History at 0x23e1e5c32e0>"
      ]
     },
     "execution_count": 21,
     "metadata": {},
     "output_type": "execute_result"
    }
   ],
   "source": [
    "import tensorflow as tf\n",
    "from tensorflow.keras import models\n",
    "from tensorflow.keras import layers\n",
    "from tensorflow.keras.utils import to_categorical\n",
    "\n",
    "(train_images, train_labels), (test_images, test_labels) = tf.keras.datasets.cifar10.load_data()\n",
    "\n",
    "train_images = train_images / 255.0\n",
    "test_images = test_images / 255.0\n",
    "\n",
    "train_labels = to_categorical(train_labels, num_classes=10)\n",
    "test_labels = to_categorical(test_labels, num_classes=10)\n",
    "\n",
    "network = models.Sequential()\n",
    "network.add(layers.Flatten(input_shape=(32, 32, 3)))\n",
    "network.add(layers.Dense(512, activation='relu'))\n",
    "network.add(layers.Dense(10, activation='softmax'))\n",
    "\n",
    "network.compile(optimizer='rmsprop',\n",
    "                loss='categorical_crossentropy',\n",
    "                metrics=['accuracy'])\n",
    "\n",
    "network.fit(train_images, train_labels, epochs=10, batch_size=128)\n"
   ]
  },
  {
   "cell_type": "code",
   "execution_count": 22,
   "id": "5efcb0d6",
   "metadata": {},
   "outputs": [
    {
     "name": "stdout",
     "output_type": "stream",
     "text": [
      "313/313 [==============================] - 1s 2ms/step - loss: 1.4903 - accuracy: 0.4812\n"
     ]
    }
   ],
   "source": [
    "test_loss, test_acc = network.evaluate(test_images, test_labels)"
   ]
  },
  {
   "cell_type": "code",
   "execution_count": 23,
   "id": "18c265bc",
   "metadata": {},
   "outputs": [
    {
     "name": "stdout",
     "output_type": "stream",
     "text": [
      "test_acc: 0.4812000095844269\n"
     ]
    }
   ],
   "source": [
    "print('test_acc:', test_acc)\n"
   ]
  }
 ],
 "metadata": {
  "kernelspec": {
   "display_name": "Python 3",
   "language": "python",
   "name": "python3"
  },
  "language_info": {
   "codemirror_mode": {
    "name": "ipython",
    "version": 3
   },
   "file_extension": ".py",
   "mimetype": "text/x-python",
   "name": "python",
   "nbconvert_exporter": "python",
   "pygments_lexer": "ipython3",
   "version": "3.8.8"
  }
 },
 "nbformat": 4,
 "nbformat_minor": 5
}
