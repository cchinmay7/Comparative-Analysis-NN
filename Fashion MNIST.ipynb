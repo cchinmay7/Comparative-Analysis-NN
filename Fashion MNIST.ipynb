{
 "cells": [
  {
   "cell_type": "code",
   "execution_count": 10,
   "id": "ea97c9ae",
   "metadata": {},
   "outputs": [
    {
     "name": "stdout",
     "output_type": "stream",
     "text": [
      "Epoch 1/5\n",
      "469/469 [==============================] - 25s 53ms/step - loss: 0.4645 - accuracy: 0.8305\n",
      "Epoch 2/5\n",
      "469/469 [==============================] - 26s 55ms/step - loss: 0.2757 - accuracy: 0.8992\n",
      "Epoch 3/5\n",
      "469/469 [==============================] - 26s 56ms/step - loss: 0.2249 - accuracy: 0.9167\n",
      "Epoch 4/5\n",
      "469/469 [==============================] - 26s 56ms/step - loss: 0.1891 - accuracy: 0.9300\n",
      "Epoch 5/5\n",
      "469/469 [==============================] - 26s 55ms/step - loss: 0.1602 - accuracy: 0.9413\n"
     ]
    },
    {
     "data": {
      "text/plain": [
       "<tensorflow.python.keras.callbacks.History at 0x1f58407ab80>"
      ]
     },
     "execution_count": 10,
     "metadata": {},
     "output_type": "execute_result"
    }
   ],
   "source": [
    "from tensorflow.keras.datasets import fashion_mnist\n",
    "from keras import models\n",
    "from keras import layers\n",
    "from keras.utils import to_categorical\n",
    "\n",
    "(train_images, train_labels), (test_images, test_labels) = fashion_mnist.load_data()\n",
    "\n",
    "network = models.Sequential()\n",
    "\n",
    "network.add(layers.Conv2D(28, (3, 3), activation='relu', input_shape=(28, 28, 1)))\n",
    "network.add(layers.MaxPooling2D((2, 2)))\n",
    "network.add(layers.Conv2D(28, (3, 3), activation='relu'))\n",
    "network.add(layers.Flatten())\n",
    "\n",
    "network.add(layers.Dense(512, activation='relu'))\n",
    "network.add(layers.Dense(10, activation='softmax'))\n",
    "\n",
    "network.compile(optimizer='rmsprop',\n",
    "                loss='categorical_crossentropy',\n",
    "                metrics=['accuracy'])\n",
    "\n",
    "train_images = train_images.reshape((60000, 28, 28, 1))\n",
    "train_images = train_images.astype('float32') / 255\n",
    "test_images = test_images.reshape((10000, 28, 28, 1))\n",
    "test_images = test_images.astype('float32') / 255\n",
    "\n",
    "train_labels = to_categorical(train_labels)\n",
    "test_labels = to_categorical(test_labels)\n",
    "\n",
    "network.fit(train_images, train_labels, epochs=5, batch_size=128)\n"
   ]
  },
  {
   "cell_type": "code",
   "execution_count": 11,
   "id": "a41ad6c3",
   "metadata": {},
   "outputs": [
    {
     "name": "stdout",
     "output_type": "stream",
     "text": [
      "313/313 [==============================] - 1s 4ms/step - loss: 0.2473 - accuracy: 0.9136\n"
     ]
    }
   ],
   "source": [
    "test_loss, test_acc = network.evaluate(test_images, test_labels)"
   ]
  },
  {
   "cell_type": "code",
   "execution_count": 12,
   "id": "5fd46f6d",
   "metadata": {},
   "outputs": [
    {
     "name": "stdout",
     "output_type": "stream",
     "text": [
      "test_acc: 0.9136000275611877\n"
     ]
    }
   ],
   "source": [
    "print('test_acc:', test_acc)\n"
   ]
  }
 ],
 "metadata": {
  "kernelspec": {
   "display_name": "Python 3",
   "language": "python",
   "name": "python3"
  },
  "language_info": {
   "codemirror_mode": {
    "name": "ipython",
    "version": 3
   },
   "file_extension": ".py",
   "mimetype": "text/x-python",
   "name": "python",
   "nbconvert_exporter": "python",
   "pygments_lexer": "ipython3",
   "version": "3.8.8"
  }
 },
 "nbformat": 4,
 "nbformat_minor": 5
}
